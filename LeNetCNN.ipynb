{
  "nbformat": 4,
  "nbformat_minor": 0,
  "metadata": {
    "colab": {
      "name": "LeNetCNN.ipynb",
      "provenance": []
    },
    "kernelspec": {
      "name": "python3",
      "display_name": "Python 3"
    }
  },
  "cells": [
    {
      "cell_type": "markdown",
      "metadata": {
        "id": "0IfolPLlHxsn"
      },
      "source": [
        "#Implementation of LeNet Achitecture"
      ]
    },
    {
      "cell_type": "markdown",
      "metadata": {
        "id": "UHHJKlAaJoMX"
      },
      "source": [
        "The LeNet architecture is an excellent “first architecture” for Convolutional Neural Networks (especially when trained on the MNIST dataset, an image dataset for handwritten digit recognition).\r\n",
        "\r\n",
        "LeNet is small and easy to understand — yet large enough to provide interesting results. Furthermore, the combination of LeNet + MNIST is able to run on the CPU, making it easy for beginners to take their first step in Deep Learning and Convolutional Neural Networks.\r\n",
        "\r\n",
        "The LeNet architecture consists of the following layers:\r\n",
        "INPUT => CONV => RELU => POOL => CONV => RELU => POOL => FC => RELU => FC"
      ]
    },
    {
      "cell_type": "markdown",
      "metadata": {
        "id": "XN88--p9H2x2"
      },
      "source": [
        ""
      ]
    },
    {
      "cell_type": "code",
      "metadata": {
        "id": "xyw37FSVH0Zu"
      },
      "source": [
        "from sklearn.model_selection import train_test_split\r\n",
        "from keras.datasets import mnist\r\n",
        "from keras.optimizers import SGD\r\n",
        "from keras.utils import np_utils\r\n",
        "from keras import backend as K\r\n",
        "import numpy as np\r\n",
        "import argparse\r\n",
        "import cv2"
      ],
      "execution_count": 12,
      "outputs": []
    },
    {
      "cell_type": "code",
      "metadata": {
        "id": "MUJlqGa5Io96"
      },
      "source": [
        "((trainData, trainLabels), (testData, testLabels)) = mnist.load_data()"
      ],
      "execution_count": 13,
      "outputs": []
    },
    {
      "cell_type": "code",
      "metadata": {
        "colab": {
          "base_uri": "https://localhost:8080/"
        },
        "id": "en1Usg3iIyY5",
        "outputId": "cf681a77-e410-4a08-88e0-13cec933deb6"
      },
      "source": [
        "trainData.shape"
      ],
      "execution_count": 14,
      "outputs": [
        {
          "output_type": "execute_result",
          "data": {
            "text/plain": [
              "(60000, 28, 28)"
            ]
          },
          "metadata": {
            "tags": []
          },
          "execution_count": 14
        }
      ]
    },
    {
      "cell_type": "code",
      "metadata": {
        "colab": {
          "base_uri": "https://localhost:8080/"
        },
        "id": "FQ3pU7X9I2fQ",
        "outputId": "dc35fabf-6e12-4b8d-84db-fb252b22b9c9"
      },
      "source": [
        "testData.shape"
      ],
      "execution_count": 15,
      "outputs": [
        {
          "output_type": "execute_result",
          "data": {
            "text/plain": [
              "(10000, 28, 28)"
            ]
          },
          "metadata": {
            "tags": []
          },
          "execution_count": 15
        }
      ]
    },
    {
      "cell_type": "markdown",
      "metadata": {
        "id": "8R11jj4eKsrn"
      },
      "source": [
        "Each image is having dimension 28x28"
      ]
    },
    {
      "cell_type": "code",
      "metadata": {
        "id": "BW-5oTZzKm6A"
      },
      "source": [
        "# if we are using \"channels first\" ordering, then reshape the\r\n",
        "# design matrix such that the matrix is:\r\n",
        "# num_samples x depth x rows x columns\r\n",
        "if K.image_data_format() == \"channels_first\":\r\n",
        "\ttrainData = trainData.reshape((trainData.shape[0], 1, 28, 28))\r\n",
        "\ttestData = testData.reshape((testData.shape[0], 1, 28, 28))\r\n",
        "# otherwise, we are using \"channels last\" ordering, so the design\r\n",
        "# matrix shape should be: num_samples x rows x columns x depth\r\n",
        "else:\r\n",
        "\ttrainData = trainData.reshape((trainData.shape[0], 28, 28, 1))\r\n",
        "\ttestData = testData.reshape((testData.shape[0], 28, 28, 1))"
      ],
      "execution_count": 16,
      "outputs": []
    },
    {
      "cell_type": "code",
      "metadata": {
        "id": "yiR1wfnCLDYW"
      },
      "source": [
        "# scale data to the range of [0, 1]\r\n",
        "trainData = trainData.astype(\"float32\") / 255.0\r\n",
        "testData = testData.astype(\"float32\") / 255.0"
      ],
      "execution_count": 17,
      "outputs": []
    },
    {
      "cell_type": "code",
      "metadata": {
        "colab": {
          "base_uri": "https://localhost:8080/"
        },
        "id": "indRyy1io14F",
        "outputId": "b8d81493-dec1-46a9-9484-5a17cc919642"
      },
      "source": [
        "trainData.shape"
      ],
      "execution_count": 18,
      "outputs": [
        {
          "output_type": "execute_result",
          "data": {
            "text/plain": [
              "(60000, 28, 28, 1)"
            ]
          },
          "metadata": {
            "tags": []
          },
          "execution_count": 18
        }
      ]
    },
    {
      "cell_type": "code",
      "metadata": {
        "id": "csiLlKXiLeb0"
      },
      "source": [
        "# transform the training and testing labels into vectors in the\r\n",
        "# range [0, classes] -- this generates a vector for each label,\r\n",
        "# where the index of the label is set to `1` and all other entries\r\n",
        "# to `0`; in the case of MNIST, there are 10 class labels\r\n",
        "trainLabels = np_utils.to_categorical(trainLabels, 10)\r\n",
        "testLabels = np_utils.to_categorical(testLabels, 10)"
      ],
      "execution_count": 19,
      "outputs": []
    },
    {
      "cell_type": "code",
      "metadata": {
        "colab": {
          "base_uri": "https://localhost:8080/"
        },
        "id": "Ifr2ux5AM6ln",
        "outputId": "426c0d07-0ccd-44e8-f074-8ab0802ee016"
      },
      "source": [
        "trainLabels[1]"
      ],
      "execution_count": 20,
      "outputs": [
        {
          "output_type": "execute_result",
          "data": {
            "text/plain": [
              "array([1., 0., 0., 0., 0., 0., 0., 0., 0., 0.], dtype=float32)"
            ]
          },
          "metadata": {
            "tags": []
          },
          "execution_count": 20
        }
      ]
    },
    {
      "cell_type": "code",
      "metadata": {
        "id": "44Y2lGnrM8UZ"
      },
      "source": [
        "from keras.models import Sequential\r\n",
        "from keras.layers.convolutional import Conv2D\r\n",
        "from keras.layers.convolutional import MaxPooling2D\r\n",
        "from keras.layers.core import Activation\r\n",
        "from keras.layers.core import Flatten\r\n",
        "from keras.layers.core import Dense"
      ],
      "execution_count": 21,
      "outputs": []
    },
    {
      "cell_type": "code",
      "metadata": {
        "id": "U3DPxnPnREvA"
      },
      "source": [
        "model = Sequential()\r\n",
        "\r\n",
        "model.add(Conv2D(20,5,padding='same',input_shape=(28,28,1)))\r\n",
        "model.add(Activation(\"relu\"))\r\n",
        "model.add(MaxPooling2D(pool_size=(2,2), strides=(2,2)))\r\n",
        "model.add(Conv2D(50,5, padding='same'))\r\n",
        "model.add(Activation(\"relu\"))\r\n",
        "model.add(MaxPooling2D(pool_size=(2,2), strides=(2,2)))\r\n",
        "\r\n",
        "model.add(Flatten())\r\n",
        "model.add(Dense(500))\r\n",
        "model.add(Activation('relu'))\r\n",
        "\r\n",
        "#output layer\r\n",
        "model.add(Dense(10))\r\n",
        "model.add(Activation('softmax'))\r\n",
        "\r\n",
        "model.compile(optimizer=SGD(lr=0.01), loss=\"categorical_crossentropy\", metrics=['accuracy'])\r\n",
        "\r\n"
      ],
      "execution_count": 22,
      "outputs": []
    },
    {
      "cell_type": "code",
      "metadata": {
        "colab": {
          "base_uri": "https://localhost:8080/"
        },
        "id": "_zz2TH35NRdQ",
        "outputId": "c982a785-8791-4643-d9db-0d43448d30c2"
      },
      "source": [
        "model.fit(trainData, trainLabels, batch_size=128, epochs=20,\r\n",
        "\t\tverbose=1)"
      ],
      "execution_count": 23,
      "outputs": [
        {
          "output_type": "stream",
          "text": [
            "Epoch 1/20\n",
            "469/469 [==============================] - 108s 228ms/step - loss: 1.5566 - accuracy: 0.6052\n",
            "Epoch 2/20\n",
            "469/469 [==============================] - 106s 225ms/step - loss: 0.2811 - accuracy: 0.9178\n",
            "Epoch 3/20\n",
            "469/469 [==============================] - 106s 226ms/step - loss: 0.1935 - accuracy: 0.9442\n",
            "Epoch 4/20\n",
            "469/469 [==============================] - 107s 228ms/step - loss: 0.1500 - accuracy: 0.9555\n",
            "Epoch 5/20\n",
            "469/469 [==============================] - 105s 223ms/step - loss: 0.1239 - accuracy: 0.9624\n",
            "Epoch 6/20\n",
            "469/469 [==============================] - 106s 227ms/step - loss: 0.1012 - accuracy: 0.9694\n",
            "Epoch 7/20\n",
            "469/469 [==============================] - 106s 227ms/step - loss: 0.0899 - accuracy: 0.9726\n",
            "Epoch 8/20\n",
            "469/469 [==============================] - 104s 223ms/step - loss: 0.0835 - accuracy: 0.9743\n",
            "Epoch 9/20\n",
            "469/469 [==============================] - 104s 221ms/step - loss: 0.0762 - accuracy: 0.9777\n",
            "Epoch 10/20\n",
            "469/469 [==============================] - 104s 222ms/step - loss: 0.0706 - accuracy: 0.9785\n",
            "Epoch 11/20\n",
            "469/469 [==============================] - 104s 223ms/step - loss: 0.0647 - accuracy: 0.9803\n",
            "Epoch 12/20\n",
            "469/469 [==============================] - 104s 222ms/step - loss: 0.0575 - accuracy: 0.9827\n",
            "Epoch 13/20\n",
            "469/469 [==============================] - 104s 221ms/step - loss: 0.0560 - accuracy: 0.9835\n",
            "Epoch 14/20\n",
            "469/469 [==============================] - 104s 223ms/step - loss: 0.0503 - accuracy: 0.9844\n",
            "Epoch 15/20\n",
            "469/469 [==============================] - 106s 226ms/step - loss: 0.0485 - accuracy: 0.9857\n",
            "Epoch 16/20\n",
            "469/469 [==============================] - 106s 227ms/step - loss: 0.0469 - accuracy: 0.9855\n",
            "Epoch 17/20\n",
            "469/469 [==============================] - 107s 228ms/step - loss: 0.0451 - accuracy: 0.9867\n",
            "Epoch 18/20\n",
            "469/469 [==============================] - 107s 227ms/step - loss: 0.0423 - accuracy: 0.9871\n",
            "Epoch 19/20\n",
            "469/469 [==============================] - 106s 227ms/step - loss: 0.0416 - accuracy: 0.9876\n",
            "Epoch 20/20\n",
            "469/469 [==============================] - 108s 230ms/step - loss: 0.0412 - accuracy: 0.9866\n"
          ],
          "name": "stdout"
        },
        {
          "output_type": "execute_result",
          "data": {
            "text/plain": [
              "<tensorflow.python.keras.callbacks.History at 0x7f150f3d15c0>"
            ]
          },
          "metadata": {
            "tags": []
          },
          "execution_count": 23
        }
      ]
    },
    {
      "cell_type": "code",
      "metadata": {
        "colab": {
          "base_uri": "https://localhost:8080/"
        },
        "id": "hr6KayhyNo_h",
        "outputId": "7870d665-3834-4716-ccf6-b2a767b1358b"
      },
      "source": [
        "(loss, accuracy) = model.evaluate(testData, testLabels,\r\n",
        "\t\tbatch_size=128, verbose=1)"
      ],
      "execution_count": 24,
      "outputs": [
        {
          "output_type": "stream",
          "text": [
            "79/79 [==============================] - 6s 68ms/step - loss: 0.0406 - accuracy: 0.9857\n"
          ],
          "name": "stdout"
        }
      ]
    },
    {
      "cell_type": "code",
      "metadata": {
        "id": "Plo_MyQnZC4w"
      },
      "source": [
        "np.newaxis"
      ],
      "execution_count": 31,
      "outputs": []
    },
    {
      "cell_type": "code",
      "metadata": {
        "id": "yZYzEWNRYW-j"
      },
      "source": [
        "probs = model.predict(testData[np.newaxis,0])\r\n",
        "prediction = probs.argmax(axis=1)"
      ],
      "execution_count": 35,
      "outputs": []
    },
    {
      "cell_type": "code",
      "metadata": {
        "colab": {
          "base_uri": "https://localhost:8080/"
        },
        "id": "o8pebXiuYb8b",
        "outputId": "ca01acd3-82fd-4108-ef4c-56072abb4fae"
      },
      "source": [
        "prediction"
      ],
      "execution_count": 37,
      "outputs": [
        {
          "output_type": "execute_result",
          "data": {
            "text/plain": [
              "array([7])"
            ]
          },
          "metadata": {
            "tags": []
          },
          "execution_count": 37
        }
      ]
    },
    {
      "cell_type": "code",
      "metadata": {
        "colab": {
          "base_uri": "https://localhost:8080/"
        },
        "id": "v4EDC84Da3Xc",
        "outputId": "78ae8a11-0cab-42b8-c05f-7b12ca238929"
      },
      "source": [
        "testLabels[0]"
      ],
      "execution_count": 38,
      "outputs": [
        {
          "output_type": "execute_result",
          "data": {
            "text/plain": [
              "array([0., 0., 0., 0., 0., 0., 0., 1., 0., 0.], dtype=float32)"
            ]
          },
          "metadata": {
            "tags": []
          },
          "execution_count": 38
        }
      ]
    },
    {
      "cell_type": "code",
      "metadata": {
        "colab": {
          "base_uri": "https://localhost:8080/"
        },
        "id": "48eIh8CmaFjW",
        "outputId": "45001fbb-3106-4105-9a03-249fec9191b9"
      },
      "source": [
        "testData[np.newaxis,0].shape"
      ],
      "execution_count": 34,
      "outputs": [
        {
          "output_type": "execute_result",
          "data": {
            "text/plain": [
              "(1, 28, 28, 1)"
            ]
          },
          "metadata": {
            "tags": []
          },
          "execution_count": 34
        }
      ]
    },
    {
      "cell_type": "code",
      "metadata": {
        "id": "IDLZmhJOaiPN"
      },
      "source": [
        ""
      ],
      "execution_count": null,
      "outputs": []
    }
  ]
}